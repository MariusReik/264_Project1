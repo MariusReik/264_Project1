{
 "cells": [
  {
   "cell_type": "markdown",
   "metadata": {},
   "source": [
    "# Project 1 – Decision Trees and Random Forests"
   ]
  },
  {
   "cell_type": "markdown",
   "metadata": {},
   "source": [
    "#### Imports\n",
    "Imports og random seed"
   ]
  },
  {
   "cell_type": "code",
   "execution_count": 112,
   "metadata": {},
   "outputs": [],
   "source": [
    "\n",
    "\n",
    "import numpy as np\n",
    "import matplotlib.pyplot as plt\n",
    "\n",
    "from itertools import product\n",
    "import pandas as pd\n",
    "from sklearn.model_selection import train_test_split, StratifiedKFold\n",
    "from sklearn.metrics import accuracy_score, confusion_matrix, classification_report\n",
    "\n",
    "from sklearn.tree import DecisionTreeClassifier\n",
    "from sklearn.ensemble import RandomForestClassifier\n",
    "\n",
    "from decision_tree import DecisionTree\n",
    "from random_forest import RandomForest\n",
    "\n",
    "# random seed\n",
    "RANDOM_SEED = 21\n",
    "\n"
   ]
  },
  {
   "cell_type": "markdown",
   "metadata": {},
   "source": [
    "### Load dataset\n",
    "\n",
    "Laster inn letters.csv og deler opp i features (X) og labels (y), og deler inn i test/train datasett (80/20)"
   ]
  },
  {
   "cell_type": "code",
   "execution_count": 113,
   "metadata": {},
   "outputs": [
    {
     "name": "stdout",
     "output_type": "stream",
     "text": [
      "X_train shape: (1600, 16), y_train shape: (1600,)\n",
      "X_test shape: (400, 16), y_test shape: (400,)\n",
      "Feature columns names: ['xbox', 'ybox', 'width', 'high', 'onpix', 'xbar', 'ybar', 'x2bar', 'y2bar', 'xybar', 'x2ybr', 'xy2br', 'xege', 'xegvy', 'yege', 'yegvx']\n",
      "Target column name: label\n"
     ]
    }
   ],
   "source": [
    "data = np.genfromtxt(\"letters.csv\", delimiter=\",\", dtype=float, names=True)\n",
    "\n",
    "feature_names = list(data.dtype.names[:-1])\n",
    "target_name = data.dtype.names[-1]\n",
    "\n",
    "X = np.array([data[f] for f in feature_names]).T\n",
    "y = data[target_name].astype(int)\n",
    "\n",
    "# 80/20 train/test\n",
    "X_train, X_test, y_train, y_test = train_test_split(\n",
    "    X, y, test_size=0.20, random_state=0, shuffle=True, stratify=y\n",
    ")\n",
    "\n",
    "print(f\"X_train shape: {X_train.shape}, y_train shape: {y_train.shape}\")\n",
    "print(f\"X_test shape: {X_test.shape}, y_test shape: {y_test.shape}\")\n",
    "print(f\"Feature columns names: {feature_names}\")\n",
    "print(f\"Target column name: {target_name}\")"
   ]
  },
  {
   "cell_type": "markdown",
   "metadata": {},
   "source": [
    "### Hyperparametere\n",
    "\n",
    "Setter opp verdier som skal testes i grid search for DecisionTree og RandomForest."
   ]
  },
  {
   "cell_type": "code",
   "execution_count": 114,
   "metadata": {},
   "outputs": [],
   "source": [
    "dt_params = {\n",
    "    \"criterion\": [\"entropy\", \"gini\"],\n",
    "    \"max_depth\": [3, 5, 10, 15],\n",
    "    \"max_features\": [\"sqrt\", \"log2\"],\n",
    "}\n",
    "\n",
    "rf_params = {\n",
    "    \"n_estimators\": [20, 30, 40],\n",
    "    \"max_depth\": [3, 5, 10, 15],\n",
    "    \"criterion\": [\"entropy\", \"gini\"],\n",
    "    \"max_features\": [\"sqrt\", \"log2\"],\n",
    "}\n"
   ]
  },
  {
   "cell_type": "markdown",
   "metadata": {},
   "source": [
    "### Cross-validation\n",
    "\n",
    "Funksjon for k-fold cross validation som regner ut accuracy."
   ]
  },
  {
   "cell_type": "code",
   "execution_count": 115,
   "metadata": {},
   "outputs": [],
   "source": [
    "def cross_val_score(model_class, params, X, y, k=5, seed=RANDOM_SEED):\n",
    "    skf = StratifiedKFold(n_splits=k, shuffle=True, random_state=seed)\n",
    "    scores = []\n",
    "    for train_idx, val_idx in skf.split(X, y):\n",
    "        X_tr, X_val = X[train_idx], X[val_idx]\n",
    "        y_tr, y_val = y[train_idx], y[val_idx]\n",
    "\n",
    "        model = model_class(**params)\n",
    "        model.fit(X_tr, y_tr)\n",
    "        y_pred = model.predict(X_val)\n",
    "        scores.append(accuracy_score(y_val, y_pred))\n",
    "    return float(np.mean(scores))\n"
   ]
  },
  {
   "cell_type": "markdown",
   "metadata": {},
   "source": [
    "### DecisionTree grid search\n",
    "\n",
    "Tester kombinasjoner av hyperparametere og finner beste for DecisionTree."
   ]
  },
  {
   "cell_type": "code",
   "execution_count": 116,
   "metadata": {},
   "outputs": [
    {
     "name": "stdout",
     "output_type": "stream",
     "text": [
      "Best DecisionTree params: {'criterion': 'entropy', 'max_depth': 10, 'max_features': 'sqrt'}\n",
      "Best DecisionTree 5-fold CV accuracy: 0.8675\n"
     ]
    },
    {
     "data": {
      "text/html": [
       "<div>\n",
       "<style scoped>\n",
       "    .dataframe tbody tr th:only-of-type {\n",
       "        vertical-align: middle;\n",
       "    }\n",
       "\n",
       "    .dataframe tbody tr th {\n",
       "        vertical-align: top;\n",
       "    }\n",
       "\n",
       "    .dataframe thead th {\n",
       "        text-align: right;\n",
       "    }\n",
       "</style>\n",
       "<table border=\"1\" class=\"dataframe\">\n",
       "  <thead>\n",
       "    <tr style=\"text-align: right;\">\n",
       "      <th></th>\n",
       "      <th>criterion</th>\n",
       "      <th>max_depth</th>\n",
       "      <th>max_features</th>\n",
       "      <th>cv_score</th>\n",
       "    </tr>\n",
       "  </thead>\n",
       "  <tbody>\n",
       "    <tr>\n",
       "      <th>4</th>\n",
       "      <td>entropy</td>\n",
       "      <td>10</td>\n",
       "      <td>sqrt</td>\n",
       "      <td>0.867500</td>\n",
       "    </tr>\n",
       "    <tr>\n",
       "      <th>5</th>\n",
       "      <td>entropy</td>\n",
       "      <td>10</td>\n",
       "      <td>log2</td>\n",
       "      <td>0.865625</td>\n",
       "    </tr>\n",
       "    <tr>\n",
       "      <th>13</th>\n",
       "      <td>gini</td>\n",
       "      <td>10</td>\n",
       "      <td>log2</td>\n",
       "      <td>0.865625</td>\n",
       "    </tr>\n",
       "    <tr>\n",
       "      <th>6</th>\n",
       "      <td>entropy</td>\n",
       "      <td>15</td>\n",
       "      <td>sqrt</td>\n",
       "      <td>0.863125</td>\n",
       "    </tr>\n",
       "    <tr>\n",
       "      <th>7</th>\n",
       "      <td>entropy</td>\n",
       "      <td>15</td>\n",
       "      <td>log2</td>\n",
       "      <td>0.859375</td>\n",
       "    </tr>\n",
       "  </tbody>\n",
       "</table>\n",
       "</div>"
      ],
      "text/plain": [
       "   criterion  max_depth max_features  cv_score\n",
       "4    entropy         10         sqrt  0.867500\n",
       "5    entropy         10         log2  0.865625\n",
       "13      gini         10         log2  0.865625\n",
       "6    entropy         15         sqrt  0.863125\n",
       "7    entropy         15         log2  0.859375"
      ]
     },
     "execution_count": 116,
     "metadata": {},
     "output_type": "execute_result"
    }
   ],
   "source": [
    "results_dt = []\n",
    "best_dt_params = None\n",
    "best_dt_score = -1.0\n",
    "\n",
    "for criterion, max_depth, max_features in product(\n",
    "    dt_params[\"criterion\"], dt_params[\"max_depth\"], dt_params[\"max_features\"]\n",
    "):\n",
    "    params = {\n",
    "        \"criterion\": criterion,\n",
    "        \"max_depth\": max_depth,\n",
    "        \"max_features\": max_features,\n",
    "    }\n",
    "    score = cross_val_score(\n",
    "        DecisionTree, params, X_train, y_train, k=5, seed=RANDOM_SEED\n",
    "    )\n",
    "    mean_score = np.mean(score)\n",
    "\n",
    "    # lagre alle resultater\n",
    "    results_dt.append({**params, \"cv_score\": mean_score})\n",
    "\n",
    "    # oppdater best score\n",
    "    if mean_score > best_dt_score:\n",
    "        best_dt_score = mean_score\n",
    "        best_dt_params = params\n",
    "\n",
    "df_dt_results = pd.DataFrame(results_dt).sort_values(by=\"cv_score\", ascending=False)\n",
    "\n",
    "print(\"Best DecisionTree params:\", best_dt_params)\n",
    "print(\"Best DecisionTree 5-fold CV accuracy:\", round(best_dt_score, 4))\n",
    "df_dt_results.head()\n"
   ]
  },
  {
   "cell_type": "markdown",
   "metadata": {},
   "source": [
    "### RandomForset - grid Serach\n",
    "Tester kombinasjoner av hyperparametere og finner beste for RandomForest. (approx 6 min runtime)"
   ]
  },
  {
   "cell_type": "code",
   "execution_count": 117,
   "metadata": {},
   "outputs": [
    {
     "name": "stdout",
     "output_type": "stream",
     "text": [
      "Best RandomForest params: {'n_estimators': 40, 'max_depth': 15, 'criterion': 'entropy', 'max_features': 'log2'}\n",
      "Best RandomForest 5-fold CV accuracy: 0.9638\n"
     ]
    },
    {
     "data": {
      "text/html": [
       "<div>\n",
       "<style scoped>\n",
       "    .dataframe tbody tr th:only-of-type {\n",
       "        vertical-align: middle;\n",
       "    }\n",
       "\n",
       "    .dataframe tbody tr th {\n",
       "        vertical-align: top;\n",
       "    }\n",
       "\n",
       "    .dataframe thead th {\n",
       "        text-align: right;\n",
       "    }\n",
       "</style>\n",
       "<table border=\"1\" class=\"dataframe\">\n",
       "  <thead>\n",
       "    <tr style=\"text-align: right;\">\n",
       "      <th></th>\n",
       "      <th>n_estimators</th>\n",
       "      <th>max_depth</th>\n",
       "      <th>criterion</th>\n",
       "      <th>max_features</th>\n",
       "      <th>cv_score</th>\n",
       "    </tr>\n",
       "  </thead>\n",
       "  <tbody>\n",
       "    <tr>\n",
       "      <th>45</th>\n",
       "      <td>40</td>\n",
       "      <td>15</td>\n",
       "      <td>entropy</td>\n",
       "      <td>log2</td>\n",
       "      <td>0.963750</td>\n",
       "    </tr>\n",
       "    <tr>\n",
       "      <th>41</th>\n",
       "      <td>40</td>\n",
       "      <td>10</td>\n",
       "      <td>entropy</td>\n",
       "      <td>log2</td>\n",
       "      <td>0.963125</td>\n",
       "    </tr>\n",
       "    <tr>\n",
       "      <th>29</th>\n",
       "      <td>30</td>\n",
       "      <td>15</td>\n",
       "      <td>entropy</td>\n",
       "      <td>log2</td>\n",
       "      <td>0.962500</td>\n",
       "    </tr>\n",
       "    <tr>\n",
       "      <th>30</th>\n",
       "      <td>30</td>\n",
       "      <td>15</td>\n",
       "      <td>gini</td>\n",
       "      <td>sqrt</td>\n",
       "      <td>0.961250</td>\n",
       "    </tr>\n",
       "    <tr>\n",
       "      <th>47</th>\n",
       "      <td>40</td>\n",
       "      <td>15</td>\n",
       "      <td>gini</td>\n",
       "      <td>log2</td>\n",
       "      <td>0.961250</td>\n",
       "    </tr>\n",
       "  </tbody>\n",
       "</table>\n",
       "</div>"
      ],
      "text/plain": [
       "    n_estimators  max_depth criterion max_features  cv_score\n",
       "45            40         15   entropy         log2  0.963750\n",
       "41            40         10   entropy         log2  0.963125\n",
       "29            30         15   entropy         log2  0.962500\n",
       "30            30         15      gini         sqrt  0.961250\n",
       "47            40         15      gini         log2  0.961250"
      ]
     },
     "execution_count": 117,
     "metadata": {},
     "output_type": "execute_result"
    }
   ],
   "source": [
    "results_rf = []\n",
    "best_rf_params = None\n",
    "best_rf_score = -1.0\n",
    "\n",
    "for n_estimators, max_depth, criterion, max_features in product(\n",
    "    rf_params[\"n_estimators\"],\n",
    "    rf_params[\"max_depth\"],\n",
    "    rf_params[\"criterion\"],\n",
    "    rf_params[\"max_features\"],\n",
    "):\n",
    "    params = {\n",
    "        \"n_estimators\": n_estimators,\n",
    "        \"max_depth\": max_depth,\n",
    "        \"criterion\": criterion,\n",
    "        \"max_features\": max_features,\n",
    "    }\n",
    "    score = cross_val_score(\n",
    "        RandomForest, params, X_train, y_train, k=5, seed=RANDOM_SEED\n",
    "    )\n",
    "    mean_score = np.mean(score)\n",
    "\n",
    "    # lagre alle resultater\n",
    "    results_rf.append({**params, \"cv_score\": mean_score})\n",
    "\n",
    "    # oppdater best score\n",
    "    if mean_score > best_rf_score:\n",
    "        best_rf_score = mean_score\n",
    "        best_rf_params = params\n",
    "\n",
    "df_rf_results = pd.DataFrame(results_rf).sort_values(by=\"cv_score\", ascending=False)\n",
    "\n",
    "print(\"Best RandomForest params:\", best_rf_params)\n",
    "print(\"Best RandomForest 5-fold CV accuracy:\", round(best_rf_score, 4))\n",
    "df_rf_results.head()\n"
   ]
  },
  {
   "cell_type": "markdown",
   "metadata": {},
   "source": [
    "## DecisionTree accuracy vs max_depth\n"
   ]
  },
  {
   "cell_type": "code",
   "execution_count": 118,
   "metadata": {},
   "outputs": [
    {
     "data": {
      "image/png": "[encoded data removed]",
      "text/plain": [
       "<Figure size 640x480 with 1 Axes>"
      ]
     },
     "metadata": {},
     "output_type": "display_data"
    }
   ],
   "source": [
    "depths = [1, 2, 5, 10, 20, None]\n",
    "train_scores = []\n",
    "test_scores = []\n",
    "\n",
    "for d in depths:\n",
    "    model = DecisionTree(max_depth=d, criterion=\"gini\", max_features=\"sqrt\")\n",
    "    model.fit(X_train, y_train)\n",
    "    train_scores.append(accuracy_score(y_train, model.predict(X_train)))\n",
    "    test_scores.append(accuracy_score(y_test, model.predict(X_test)))\n",
    "\n",
    "plt.plot([str(d) for d in depths], train_scores, marker=\"o\", label=\"Train\")\n",
    "plt.plot([str(d) for d in depths], test_scores, marker=\"o\", label=\"Test\")\n",
    "plt.xlabel(\"max_depth\")\n",
    "plt.ylabel(\"Accuracy\")\n",
    "plt.title(\"DecisionTree accuracy vs max_depth\")\n",
    "plt.legend()\n",
    "plt.show()"
   ]
  },
  {
   "cell_type": "markdown",
   "metadata": {},
   "source": [
    "## RandomForest accuracy vs n_estimator"
   ]
  },
  {
   "cell_type": "code",
   "execution_count": 119,
   "metadata": {},
   "outputs": [
    {
     "data": {
      "image/png": "[encoded data removed]",
      "text/plain": [
       "<Figure size 640x480 with 1 Axes>"
      ]
     },
     "metadata": {},
     "output_type": "display_data"
    }
   ],
   "source": [
    "estimators = [5, 10, 20, 30, 50]\n",
    "train_scores = []\n",
    "test_scores = []\n",
    "\n",
    "for n in estimators:\n",
    "    model = RandomForest(n_estimators=n, max_depth=7, criterion=\"gini\", max_features=\"sqrt\")\n",
    "    model.fit(X_train, y_train)\n",
    "    train_scores.append(accuracy_score(y_train, model.predict(X_train)))\n",
    "    test_scores.append(accuracy_score(y_test, model.predict(X_test)))\n",
    "\n",
    "plt.plot(estimators, train_scores, marker=\"o\", label=\"Train\")\n",
    "plt.plot(estimators, test_scores, marker=\"o\", label=\"Test\")\n",
    "plt.xlabel(\"n_estimators\")\n",
    "plt.ylabel(\"Accuracy\")\n",
    "plt.title(\"RandomForest accuracy vs n_estimators\")\n",
    "plt.legend()\n",
    "plt.show()"
   ]
  },
  {
   "cell_type": "markdown",
   "metadata": {},
   "source": [
    "### Evaluation of grid search hyperparameters\n",
    "\n",
    "We test the hyperparameters found by grid search on the full training set and evaluate on the test set"
   ]
  },
  {
   "cell_type": "code",
   "execution_count": 120,
   "metadata": {},
   "outputs": [
    {
     "name": "stdout",
     "output_type": "stream",
     "text": [
      "Custom DecisionTree test accuracy: 0.9150\n",
      "Custom RandomForest test accuracy: 0.9725\n"
     ]
    }
   ],
   "source": [
    "# DecisionTree\n",
    "dt_best = DecisionTree(**best_dt_params)\n",
    "dt_best.fit(X_train, y_train)\n",
    "dt_pred = dt_best.predict(X_test)\n",
    "dt_acc = accuracy_score(y_test, dt_pred)\n",
    "\n",
    "# RandomForest\n",
    "rf_best = RandomForest(**best_rf_params)\n",
    "rf_best.fit(X_train, y_train)\n",
    "rf_pred = rf_best.predict(X_test)\n",
    "rf_acc = accuracy_score(y_test, rf_pred)\n",
    "\n",
    "# Print accuracy\n",
    "print(f\"Custom DecisionTree test accuracy: {dt_acc:.4f}\")\n",
    "print(f\"Custom RandomForest test accuracy: {rf_acc:.4f}\")\n"
   ]
  },
  {
   "cell_type": "markdown",
   "metadata": {},
   "source": [
    "### Final evaluation\n",
    "\n",
    "Instead of using the grid search hyperparameters, we use the most correct values based on theory and our own analysis (argued in the rapport). Again, we use the full training set and evaluate on the test set.\n"
   ]
  },
  {
   "cell_type": "code",
   "execution_count": 121,
   "metadata": {},
   "outputs": [
    {
     "name": "stdout",
     "output_type": "stream",
     "text": [
      "Custom DecisionTree test accuracy: 0.8250\n",
      "Custom RandomForest test accuracy: 0.9375\n"
     ]
    }
   ],
   "source": [
    "dt_manual = DecisionTree(\n",
    "    max_depth=7,\n",
    "    criterion=\"gini\",\n",
    "    max_features=\"sqrt\"\n",
    ")\n",
    "dt_manual.fit(X_train, y_train)\n",
    "dt_pred = dt_manual.predict(X_test)\n",
    "dt_acc = accuracy_score(y_test, dt_pred)\n",
    "\n",
    "rf_manual = RandomForest(\n",
    "    n_estimators=30,     \n",
    "    max_depth=7,           \n",
    "    criterion=\"gini\", \n",
    "    max_features=\"sqrt\"\n",
    ")\n",
    "rf_manual.fit(X_train, y_train)\n",
    "rf_pred = rf_manual.predict(X_test)\n",
    "rf_acc = accuracy_score(y_test, rf_pred)\n",
    "\n",
    "# Print accuracy\n",
    "print(f\"Custom DecisionTree test accuracy: {dt_acc:.4f}\")\n",
    "print(f\"Custom RandomForest test accuracy: {rf_acc:.4f}\")"
   ]
  },
  {
   "cell_type": "markdown",
   "metadata": {},
   "source": [
    "### SKLearn modeller\n",
    "\n",
    "Trener modell med sklearn med de samme paramterene"
   ]
  },
  {
   "cell_type": "code",
   "execution_count": 122,
   "metadata": {},
   "outputs": [
    {
     "name": "stdout",
     "output_type": "stream",
     "text": [
      "Sklearn DecisionTree test accuracy: 0.7725\n",
      "Sklearn RandomForest test accuracy: 0.8725\n"
     ]
    }
   ],
   "source": [
    "from sklearn.tree import DecisionTreeClassifier\n",
    "from sklearn.ensemble import RandomForestClassifier\n",
    "from sklearn.metrics import accuracy_score\n",
    "\n",
    "sk_dt_manual = DecisionTreeClassifier(\n",
    "    max_depth=5,\n",
    "    criterion=\"gini\",\n",
    "    max_features=\"sqrt\",\n",
    ")\n",
    "sk_dt_manual.fit(X_train, y_train)\n",
    "sk_dt_acc = accuracy_score(y_test, sk_dt_manual.predict(X_test))\n",
    "\n",
    "sk_rf_manual = RandomForestClassifier(\n",
    "    n_estimators=30,\n",
    "    max_depth=5,\n",
    "    criterion=\"gini\",\n",
    "    max_features=\"sqrt\",\n",
    ")\n",
    "sk_rf_manual.fit(X_train, y_train)\n",
    "sk_rf_acc = accuracy_score(y_test, sk_rf_manual.predict(X_test))\n",
    "\n",
    "# Print accuracy\n",
    "print(f\"Sklearn DecisionTree test accuracy: {sk_dt_acc:.4f}\")\n",
    "print(f\"Sklearn RandomForest test accuracy: {sk_rf_acc:.4f}\")\n"
   ]
  },
  {
   "cell_type": "markdown",
   "metadata": {},
   "source": [
    "#### Task 4 - Permutation Importance"
   ]
  },
  {
   "cell_type": "code",
   "execution_count": 123,
   "metadata": {},
   "outputs": [
    {
     "data": {
      "image/png": "[encoded data removed]",
      "text/plain": [
       "<Figure size 640x480 with 1 Axes>"
      ]
     },
     "metadata": {},
     "output_type": "display_data"
    }
   ],
   "source": [
    "def permutation_importance(model, X, y, metric=accuracy_score, n_repeats=30, seed=RANDOM_SEED):\n",
    "    rng = np.random.default_rng(seed)\n",
    "    baseline = metric(y, model.predict(X))\n",
    "    importances = []\n",
    "\n",
    "    for col in range(X.shape[1]):\n",
    "        scores = []\n",
    "        for _ in range(n_repeats):\n",
    "            X_permuted = X.copy()\n",
    "            rng.shuffle(X_permuted[:, col])\n",
    "            score = metric(y, model.predict(X_permuted))\n",
    "            scores.append(baseline - score)\n",
    "        importances.append(np.mean(scores))\n",
    "    return np.array(importances)\n",
    "\n",
    "rf_best = RandomForest(**best_rf_params)\n",
    "rf_best.fit(X_train, y_train)\n",
    "\n",
    "importances = permutation_importance(rf_best, X_test, y_test, n_repeats=30, seed=RANDOM_SEED)\n",
    "\n",
    "import matplotlib.pyplot as plt\n",
    "\n",
    "plt.bar(range(len(feature_names)), importances)\n",
    "plt.xticks(range(len(feature_names)), feature_names, rotation=90)\n",
    "plt.ylabel(\"Permutation importance\")\n",
    "plt.title(\"Feature importance RandomForest\")\n",
    "plt.show()\n"
   ]
  }
 ],
 "metadata": {
  "kernelspec": {
   "display_name": "INF264",
   "language": "python",
   "name": "python3"
  },
  "language_info": {
   "codemirror_mode": {
    "name": "ipython",
    "version": 3
   },
   "file_extension": ".py",
   "mimetype": "text/x-python",
   "name": "python",
   "nbconvert_exporter": "python",
   "pygments_lexer": "ipython3",
   "version": "3.13.7"
  }
 },
 "nbformat": 4,
 "nbformat_minor": 2
}
